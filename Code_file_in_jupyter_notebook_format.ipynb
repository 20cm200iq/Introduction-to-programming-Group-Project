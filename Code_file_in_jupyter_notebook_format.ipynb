{
 "cells": [
  {
   "cell_type": "code",
   "execution_count": 11,
   "metadata": {},
   "outputs": [
    {
     "name": "stdout",
     "output_type": "stream",
     "text": [
      "380\n",
      "380\n",
      "380\n"
     ]
    }
   ],
   "source": [
    "def organise_data(data):\n",
    "    data = open(data, \"r\")\n",
    "    dict1 = {}\n",
    "    number = 0\n",
    "    for i in data:\n",
    "        if number == 0:\n",
    "            number +=1\n",
    "        else:\n",
    "            line = i.strip().split(\",\")\n",
    "            Home_team = line[1]\n",
    "            Away_team = line[2]\n",
    "            GH = line[3]\n",
    "            GA = line[4]\n",
    "            YH = line[5]\n",
    "            YA = line[6]\n",
    "\n",
    "            dict1[number] = [Home_team, Away_team, GH, GA, YH, YA]\n",
    "\n",
    "            number += 1\n",
    "        \n",
    "    return dict1\n",
    "\n",
    "season_16_17 = organise_data(\"16_17_revised.csv\")\n",
    "season_17_18 = organise_data(\"17_18_revised.csv\")\n",
    "season_18_19 = organise_data(\"18_19_revised.csv\")\n",
    "print(len(season_16_17.keys()))\n",
    "print(len(season_17_18.keys()))\n",
    "print(len(season_18_19.keys()))"
   ]
  },
  {
   "cell_type": "code",
   "execution_count": null,
   "metadata": {},
   "outputs": [],
   "source": []
  },
  {
   "cell_type": "code",
   "execution_count": null,
   "metadata": {},
   "outputs": [],
   "source": []
  }
 ],
 "metadata": {
  "kernelspec": {
   "display_name": "Python 3",
   "language": "python",
   "name": "python3"
  },
  "language_info": {
   "codemirror_mode": {
    "name": "ipython",
    "version": 3
   },
   "file_extension": ".py",
   "mimetype": "text/x-python",
   "name": "python",
   "nbconvert_exporter": "python",
   "pygments_lexer": "ipython3",
   "version": "3.7.6"
  }
 },
 "nbformat": 4,
 "nbformat_minor": 4
}
